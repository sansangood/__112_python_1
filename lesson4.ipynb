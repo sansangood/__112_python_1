{
 "cells": [
  {
   "cell_type": "code",
   "execution_count": 1,
   "metadata": {},
   "outputs": [],
   "source": [
    "# 學生總分為300\n",
    "import pyinputplus as pyip #pyinputplus 檢查程式錯誤\n",
    "\n",
    "scores = pyip.inputInt(\"請輸入學生分數(最高300分)\")\n",
    "name = \"王曉明\"\n",
    "print()  #空括號是換行\n",
    "print(\"學生分數為\",scores) #如果不是用插捕的方式，兩個變數連接中間會多一格空白\n",
    "print (f\"\\n學生分數為{scores}\") #\\n 也是換行\n",
    "print(f\"學生{name}分數為{scores}\") #字串插補 f\" 字串 {字串}\""
   ]
  },
  {
   "cell_type": "code",
   "execution_count": null,
   "metadata": {},
   "outputs": [],
   "source": [
    "# 學生總分為300\n",
    "import pyinputplus as pyip #pyinputplus 檢查程式錯誤\n",
    "\n",
    "scores = pyip.inputInt(\"請輸入學生分數(最高300分)\")\n",
    "name = \"王曉明\"\n",
    "if scores <=300:\n",
    "    print(f\"學生{name}分數為{scores}\")\n",
    "else:\n",
    "    print(f\"學生{name}錯誤\")"
   ]
  },
  {
   "cell_type": "code",
   "execution_count": null,
   "metadata": {},
   "outputs": [],
   "source": [
    "# 學生總分為300\n",
    "import pyinputplus as pyip #pyinputplus 檢查程式錯誤\n",
    "\n",
    "scores = pyip.inputInt(\"請輸入學生分數(最高300分)\",min=0,max=300)\n",
    "name = \"王曉明\"\n",
    "print()\n",
    "print(f\"學生{name}分數為{scores}\")"
   ]
  },
  {
   "cell_type": "code",
   "execution_count": null,
   "metadata": {},
   "outputs": [],
   "source": [
    "# 學生總分為300\n",
    "# 有些學生可以加分5%\n",
    "\n",
    "import pyinputplus as pyip #pyinputplus 檢查程式錯誤\n",
    "\n",
    "scores = pyip.inputInt(\"請輸入學生分數(最高300分)\",min=0,max=300)\n",
    "print(scores)\n",
    "isYes = pyip.inputMenu([\"y\",\"n\"],prompt=\"學生是否符合加分條件(請選擇1或2)\\n\",numbered=True) #引數位置放前面，引述名稱放後面\n",
    "print(isYes)\n",
    "if isYes ==\"y\":\n",
    "    scores *=1.05\n",
    "    if scores > 300:\n",
    "       scores = 300\n",
    "\n",
    "print(f\"學生分數為{scores}\")\n",
    "\n",
    "\n",
    "\n",
    "print(scores)"
   ]
  },
  {
   "cell_type": "code",
   "execution_count": null,
   "metadata": {},
   "outputs": [],
   "source": [
    "import pyinputplus as pyip\n",
    "\n",
    "x = -9\n",
    "y = 2\n",
    "if x >= 0:\n",
    "    root = x**(1/y)\n",
    "else:\n",
    "   if x % 2 == 0:\n",
    "      root=\"虛數\"\n",
    "   else:\n",
    "      root = -(-x)**(1/y)\n",
    "\n",
    "print(root)     \n",
    "\n",
    "\n"
   ]
  },
  {
   "cell_type": "code",
   "execution_count": null,
   "metadata": {},
   "outputs": [],
   "source": [
    "scores =80\n",
    "\n",
    "if scores < 60:\n",
    "    print(\"不及格\")\n",
    "elif scores >= 80:\n",
    "    print(\"優\")\n",
    "else:\n",
    "    print(\"良\")\n",
    "\n",
    "print(scores)"
   ]
  },
  {
   "cell_type": "code",
   "execution_count": null,
   "metadata": {},
   "outputs": [],
   "source": [
    "scores =45\n",
    "\n",
    "if scores >= 90:\n",
    "    print(\"優\")\n",
    "elif scores >= 80:\n",
    "    print(\"甲\")\n",
    "elif scores >= 70:\n",
    "    print(\"乙\")\n",
    "elif scores >= 60:\n",
    "    print(\"丙\")\n",
    "else:\n",
    "    print(\"不及格\")\n",
    "\n",
    "print(scores)"
   ]
  },
  {
   "cell_type": "code",
   "execution_count": null,
   "metadata": {},
   "outputs": [],
   "source": [
    "#輸入購買金額，若金額在\n",
    "#100000員打8折\n",
    "#50000打85折\n",
    "#30000打9折\n",
    "#10000打95折\n",
    "\n",
    "total = pyip.inputInt(\"請輸入購買金額:\")\n",
    "\n",
    "if total >100000:\n",
    "    money = total*0.8\n",
    "elif total >50000:\n",
    "    money = total*0.85\n",
    "elif total >30000:\n",
    "    money = total*0.9\n",
    "elif total >10000:\n",
    "    money = total*0.95\n",
    "else:\n",
    "    money = total*1\n",
    "\n",
    "print(total)\n",
    "print(\"實付金額是:\",money,\"元\")"
   ]
  },
  {
   "cell_type": "code",
   "execution_count": null,
   "metadata": {},
   "outputs": [],
   "source": []
  }
 ],
 "metadata": {
  "kernelspec": {
   "display_name": "Python 3",
   "language": "python",
   "name": "python3"
  },
  "language_info": {
   "codemirror_mode": {
    "name": "ipython",
    "version": 3
   },
   "file_extension": ".py",
   "mimetype": "text/x-python",
   "name": "python",
   "nbconvert_exporter": "python",
   "pygments_lexer": "ipython3",
   "version": "3.10.13"
  }
 },
 "nbformat": 4,
 "nbformat_minor": 2
}
