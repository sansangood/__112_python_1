{
 "cells": [
  {
   "cell_type": "code",
   "execution_count": null,
   "metadata": {},
   "outputs": [
    {
     "name": "stdout",
     "output_type": "stream",
     "text": [
      "請輸入學生分數(最高300分)\n",
      "學生分數為 555\n",
      "\n",
      "學生分數為555\n",
      "學生王曉明分數為555\n"
     ]
    }
   ],
   "source": [
    "# 學生總分為300\n",
    "import pyinputplus as pyip #pyinputplus 檢查程式錯誤\n",
    "\n",
    "scores = pyip.inputInt(\"請輸入學生分數(最高300分)\")\n",
    "name = \"王曉明\"\n",
    "print()  #空括號是換行\n",
    "print(\"學生分數為\",scores) #如果不是用插捕的方式，兩個變數連接中間會多一格空白\n",
    "print (f\"\\n學生分數為{scores}\") #\\n 也是換行\n",
    "print(f\"學生{name}分數為{scores}\") #字串插補 f\" 字串 {字串}\""
   ]
  },
  {
   "cell_type": "code",
   "execution_count": null,
   "metadata": {},
   "outputs": [
    {
     "name": "stdout",
     "output_type": "stream",
     "text": [
      "請輸入學生分數(最高300分)學生王曉明分數為55\n"
     ]
    }
   ],
   "source": [
    "# 學生總分為300\n",
    "import pyinputplus as pyip #pyinputplus 檢查程式錯誤\n",
    "\n",
    "scores = pyip.inputInt(\"請輸入學生分數(最高300分)\")\n",
    "name = \"王曉明\"\n",
    "if scores <=300:\n",
    "    print(f\"學生{name}分數為{scores}\")\n",
    "else:\n",
    "    print(f\"學生{name}錯誤\")"
   ]
  },
  {
   "cell_type": "code",
   "execution_count": null,
   "metadata": {},
   "outputs": [
    {
     "name": "stdout",
     "output_type": "stream",
     "text": [
      "請輸入學生分數(最高300分)Number must be at maximum 300.\n",
      "請輸入學生分數(最高300分)Number must be at maximum 300.\n",
      "請輸入學生分數(最高300分)\n",
      "學生王曉明分數為1\n"
     ]
    }
   ],
   "source": [
    "# 學生總分為300\n",
    "import pyinputplus as pyip #pyinputplus 檢查程式錯誤\n",
    "\n",
    "scores = pyip.inputInt(\"請輸入學生分數(最高300分)\",min=0,max=300)\n",
    "name = \"王曉明\"\n",
    "print()\n",
    "print(f\"學生{name}分數為{scores}\")"
   ]
  },
  {
   "cell_type": "code",
   "execution_count": 28,
   "metadata": {},
   "outputs": [
    {
     "name": "stdout",
     "output_type": "stream",
     "text": [
      "請輸入學生分數(最高300分)51\n",
      "學生是否符合加分條件(請選擇1或2)\n",
      "1. y\n",
      "2. n\n",
      "y\n",
      "加分\n"
     ]
    }
   ],
   "source": [
    "# 學生總分為300\n",
    "# 有些學生可以加分5%\n",
    "\n",
    "import pyinputplus as pyip #pyinputplus 檢查程式錯誤\n",
    "\n",
    "scores = pyip.inputInt(\"請輸入學生分數(最高300分)\",min=0,max=300)\n",
    "print(scores)\n",
    "isYes = pyip.inputMenu([\"y\",\"n\"],prompt=\"學生是否符合加分條件(請選擇1或2)\\n\",numbered=True) #引數位置放前面，引述名稱放後面\n",
    "print(isYes)\n",
    "if isYes ==\"y\":\n",
    "    print(\"加分\")\n",
    "else:\n",
    "    print(\"減分\")"
   ]
  }
 ],
 "metadata": {
  "kernelspec": {
   "display_name": "Python 3",
   "language": "python",
   "name": "python3"
  },
  "language_info": {
   "codemirror_mode": {
    "name": "ipython",
    "version": 3
   },
   "file_extension": ".py",
   "mimetype": "text/x-python",
   "name": "python",
   "nbconvert_exporter": "python",
   "pygments_lexer": "ipython3",
   "version": "3.10.13"
  }
 },
 "nbformat": 4,
 "nbformat_minor": 2
}
